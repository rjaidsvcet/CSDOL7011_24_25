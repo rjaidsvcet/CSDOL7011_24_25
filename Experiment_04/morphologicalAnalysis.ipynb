{
 "cells": [
  {
   "cell_type": "code",
   "execution_count": 1,
   "id": "140d00a5-d411-4ccd-81c4-4de7c296f4e7",
   "metadata": {},
   "outputs": [],
   "source": [
    "import nltk\n",
    "from nltk.tokenize import word_tokenize\n",
    "from nltk.corpus import wordnet\n",
    "from nltk.stem import WordNetLemmatizer\n",
    "from nltk.tag import pos_tag"
   ]
  },
  {
   "cell_type": "code",
   "execution_count": 2,
   "id": "ee646e84-4c36-424e-96bf-4f7f2112bbff",
   "metadata": {},
   "outputs": [
    {
     "name": "stderr",
     "output_type": "stream",
     "text": [
      "[nltk_data] Downloading package punkt to\n",
      "[nltk_data]     C:\\Users\\admin\\AppData\\Roaming\\nltk_data...\n",
      "[nltk_data]   Package punkt is already up-to-date!\n",
      "[nltk_data] Downloading package averaged_perceptron_tagger to\n",
      "[nltk_data]     C:\\Users\\admin\\AppData\\Roaming\\nltk_data...\n",
      "[nltk_data]   Package averaged_perceptron_tagger is already up-to-\n",
      "[nltk_data]       date!\n",
      "[nltk_data] Downloading package wordnet to\n",
      "[nltk_data]     C:\\Users\\admin\\AppData\\Roaming\\nltk_data...\n",
      "[nltk_data]   Package wordnet is already up-to-date!\n"
     ]
    },
    {
     "data": {
      "text/plain": [
       "True"
      ]
     },
     "execution_count": 2,
     "metadata": {},
     "output_type": "execute_result"
    }
   ],
   "source": [
    "nltk.download('punkt')\n",
    "nltk.download('averaged_perceptron_tagger')\n",
    "nltk.download('wordnet')"
   ]
  },
  {
   "cell_type": "markdown",
   "id": "939dea40-73cf-482f-a975-a197b8cedbd1",
   "metadata": {},
   "source": [
    "### Function for Morphological Analysis"
   ]
  },
  {
   "cell_type": "code",
   "execution_count": 3,
   "id": "d6281f89-bdc4-4ed8-ac22-ede6499694f4",
   "metadata": {},
   "outputs": [],
   "source": [
    "def morphological_analysis(text):\n",
    "    # Tokenize the text\n",
    "    tokens = word_tokenize(text)\n",
    "    \n",
    "    # Part-of-speech tagging\n",
    "    pos_tags = pos_tag(tokens)\n",
    "    \n",
    "    # Lemmatization\n",
    "    lemmatizer = WordNetLemmatizer()\n",
    "    lemmas = [(word, lemmatizer.lemmatize(word, pos=get_wordnet_pos(tag))) for word, tag in pos_tags]\n",
    "    \n",
    "    return pos_tags, lemmas"
   ]
  },
  {
   "cell_type": "markdown",
   "id": "88156df9-4040-4bc3-80ba-50e5f6202062",
   "metadata": {},
   "source": [
    "### Function to map NLTK POS tags to WordNet POS tags"
   ]
  },
  {
   "cell_type": "code",
   "execution_count": 4,
   "id": "d8f2d5b1-837f-4f9c-802e-8bc3a4fdceeb",
   "metadata": {},
   "outputs": [],
   "source": [
    "def get_wordnet_pos(tag):\n",
    "    if tag.startswith('J'):\n",
    "        return wordnet.ADJ\n",
    "    elif tag.startswith('V'):\n",
    "        return wordnet.VERB\n",
    "    elif tag.startswith('N'):\n",
    "        return wordnet.NOUN\n",
    "    elif tag.startswith('R'):\n",
    "        return wordnet.ADV\n",
    "    else:\n",
    "        return wordnet.NOUN"
   ]
  },
  {
   "cell_type": "markdown",
   "id": "646aaa52-521c-476a-bc78-d1af78071ad2",
   "metadata": {},
   "source": [
    "### Function for word generation (synonyms)"
   ]
  },
  {
   "cell_type": "code",
   "execution_count": 5,
   "id": "09686f13-6daa-452a-baa6-a0038bf63dc1",
   "metadata": {},
   "outputs": [],
   "source": [
    "def generate_words(word):\n",
    "    synonyms = []\n",
    "    \n",
    "    for syn in wordnet.synsets(word):\n",
    "        for lemma in syn.lemmas():\n",
    "            synonyms.append(lemma.name())\n",
    "    \n",
    "    return set(synonyms)"
   ]
  },
  {
   "cell_type": "markdown",
   "id": "a3cb85a0-0843-44f4-bff2-4c06f3ca074a",
   "metadata": {},
   "source": [
    "### Example text"
   ]
  },
  {
   "cell_type": "code",
   "execution_count": 6,
   "id": "e691e6d1-09d6-48e1-8c2d-b9ad7a13a8e5",
   "metadata": {},
   "outputs": [],
   "source": [
    "text = \"The quick brown fox jumps over the lazy dog.\""
   ]
  },
  {
   "cell_type": "markdown",
   "id": "235fe363-a1dd-49e3-be12-81ae6b14168e",
   "metadata": {},
   "source": [
    "### Perform morphological analysis"
   ]
  },
  {
   "cell_type": "code",
   "execution_count": 7,
   "id": "396e677a-ba5b-47b7-95be-b884d1b332d8",
   "metadata": {},
   "outputs": [],
   "source": [
    "pos_tags, lemmas = morphological_analysis(text)"
   ]
  },
  {
   "cell_type": "markdown",
   "id": "4c4490a0-f09e-4a66-a223-461022958afd",
   "metadata": {},
   "source": [
    "### Generate words"
   ]
  },
  {
   "cell_type": "code",
   "execution_count": 8,
   "id": "737962ed-eac1-4eb2-b121-ca531e2c794d",
   "metadata": {},
   "outputs": [],
   "source": [
    "word = \"quick\"\n",
    "synonyms = generate_words(word)"
   ]
  },
  {
   "cell_type": "code",
   "execution_count": 9,
   "id": "9d1613ab-b577-44a5-b34c-eef9fffbedfd",
   "metadata": {},
   "outputs": [
    {
     "name": "stdout",
     "output_type": "stream",
     "text": [
      "Part-of-Speech Tags: [('The', 'DT'), ('quick', 'JJ'), ('brown', 'NN'), ('fox', 'NN'), ('jumps', 'VBZ'), ('over', 'IN'), ('the', 'DT'), ('lazy', 'JJ'), ('dog', 'NN'), ('.', '.')]\n",
      "Lemmas: [('The', 'The'), ('quick', 'quick'), ('brown', 'brown'), ('fox', 'fox'), ('jumps', 'jump'), ('over', 'over'), ('the', 'the'), ('lazy', 'lazy'), ('dog', 'dog'), ('.', '.')]\n",
      "Synonyms for 'quick': {'spry', 'quickly', 'prompt', 'speedy', 'straightaway', 'flying', 'immediate', 'warm', 'nimble', 'quick', 'ready', 'fast', 'promptly', 'agile'}\n"
     ]
    }
   ],
   "source": [
    "print(\"Part-of-Speech Tags:\", pos_tags)\n",
    "print(\"Lemmas:\", lemmas)\n",
    "print(f\"Synonyms for '{word}':\", synonyms)"
   ]
  }
 ],
 "metadata": {
  "kernelspec": {
   "display_name": "Python 3 (ipykernel)",
   "language": "python",
   "name": "python3"
  },
  "language_info": {
   "codemirror_mode": {
    "name": "ipython",
    "version": 3
   },
   "file_extension": ".py",
   "mimetype": "text/x-python",
   "name": "python",
   "nbconvert_exporter": "python",
   "pygments_lexer": "ipython3",
   "version": "3.11.5"
  }
 },
 "nbformat": 4,
 "nbformat_minor": 5
}
