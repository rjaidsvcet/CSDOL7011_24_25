{
 "cells": [
  {
   "cell_type": "markdown",
   "id": "serial-proceeding",
   "metadata": {},
   "source": [
    "Experiment 03 ~ NLP DLOC ~ Raunak Joshi ~ Dept. of AI & DS ~ VCET"
   ]
  },
  {
   "cell_type": "markdown",
   "id": "exposed-trinity",
   "metadata": {},
   "source": [
    "### Library required"
   ]
  },
  {
   "cell_type": "code",
   "execution_count": 1,
   "id": "explicit-leather",
   "metadata": {},
   "outputs": [
    {
     "name": "stdout",
     "output_type": "stream",
     "text": [
      "Requirement already satisfied: nltk in c:\\users\\admin\\appdata\\local\\programs\\python\\python37\\lib\\site-packages (3.6.2)\n",
      "Requirement already satisfied: joblib in c:\\users\\admin\\appdata\\local\\programs\\python\\python37\\lib\\site-packages (from nltk) (1.0.0)\n",
      "Requirement already satisfied: click in c:\\users\\admin\\appdata\\local\\programs\\python\\python37\\lib\\site-packages (from nltk) (7.1.2)\n",
      "Requirement already satisfied: regex in c:\\users\\admin\\appdata\\local\\programs\\python\\python37\\lib\\site-packages (from nltk) (2021.4.4)\n",
      "Requirement already satisfied: tqdm in c:\\users\\admin\\appdata\\local\\programs\\python\\python37\\lib\\site-packages (from nltk) (4.60.0)\n"
     ]
    },
    {
     "name": "stderr",
     "output_type": "stream",
     "text": [
      "WARNING: You are using pip version 22.0; however, version 23.2.1 is available.\n",
      "You should consider upgrading via the 'c:\\users\\admin\\appdata\\local\\programs\\python\\python37\\python.exe -m pip install --upgrade pip' command.\n"
     ]
    }
   ],
   "source": [
    "!pip install nltk"
   ]
  },
  {
   "cell_type": "markdown",
   "id": "parliamentary-transcript",
   "metadata": {},
   "source": [
    "### Text"
   ]
  },
  {
   "cell_type": "code",
   "execution_count": 2,
   "id": "centered-aurora",
   "metadata": {},
   "outputs": [],
   "source": [
    "text = 'TON 618 is a hyperluminous, broad-absorption-line, radio-loud quasar and Lyman-alpha blob located near the border of the constellations Canes Venatici and Coma Berenices, with the projected comoving distance of approximately 18.2 billion light-years from Earth.'"
   ]
  },
  {
   "cell_type": "code",
   "execution_count": 3,
   "id": "configured-brass",
   "metadata": {},
   "outputs": [
    {
     "data": {
      "text/plain": [
       "'TON 618 is a hyperluminous, broad-absorption-line, radio-loud quasar and Lyman-alpha blob located near the border of the constellations Canes Venatici and Coma Berenices, with the projected comoving distance of approximately 18.2 billion light-years from Earth.'"
      ]
     },
     "execution_count": 3,
     "metadata": {},
     "output_type": "execute_result"
    }
   ],
   "source": [
    "text"
   ]
  },
  {
   "cell_type": "markdown",
   "id": "tamil-technical",
   "metadata": {},
   "source": [
    "### Stopwords"
   ]
  },
  {
   "cell_type": "code",
   "execution_count": 4,
   "id": "damaged-digit",
   "metadata": {},
   "outputs": [],
   "source": [
    "from nltk.corpus import stopwords"
   ]
  },
  {
   "cell_type": "code",
   "execution_count": 5,
   "id": "through-symposium",
   "metadata": {},
   "outputs": [],
   "source": [
    "stop_words = stopwords.words('english')"
   ]
  },
  {
   "cell_type": "code",
   "execution_count": 6,
   "id": "authentic-answer",
   "metadata": {},
   "outputs": [],
   "source": [
    "from nltk.tokenize import word_tokenize\n",
    "words = word_tokenize(text)"
   ]
  },
  {
   "cell_type": "markdown",
   "id": "functional-checkout",
   "metadata": {},
   "source": [
    "#### Applying stop words"
   ]
  },
  {
   "cell_type": "code",
   "execution_count": 7,
   "id": "piano-graph",
   "metadata": {},
   "outputs": [],
   "source": [
    "holder = list()\n",
    "for w in words:\n",
    "    if w not in set(stop_words):\n",
    "        holder.append(w)"
   ]
  },
  {
   "cell_type": "code",
   "execution_count": 8,
   "id": "accompanied-queens",
   "metadata": {},
   "outputs": [
    {
     "data": {
      "text/plain": [
       "['TON',\n",
       " '618',\n",
       " 'hyperluminous',\n",
       " ',',\n",
       " 'broad-absorption-line',\n",
       " ',',\n",
       " 'radio-loud',\n",
       " 'quasar',\n",
       " 'Lyman-alpha',\n",
       " 'blob',\n",
       " 'located',\n",
       " 'near',\n",
       " 'border',\n",
       " 'constellations',\n",
       " 'Canes',\n",
       " 'Venatici',\n",
       " 'Coma',\n",
       " 'Berenices',\n",
       " ',',\n",
       " 'projected',\n",
       " 'comoving',\n",
       " 'distance',\n",
       " 'approximately',\n",
       " '18.2',\n",
       " 'billion',\n",
       " 'light-years',\n",
       " 'Earth',\n",
       " '.']"
      ]
     },
     "execution_count": 8,
     "metadata": {},
     "output_type": "execute_result"
    }
   ],
   "source": [
    "holder"
   ]
  },
  {
   "cell_type": "markdown",
   "id": "digital-henry",
   "metadata": {},
   "source": [
    "#### List Comprehension for stop words"
   ]
  },
  {
   "cell_type": "code",
   "execution_count": 9,
   "id": "environmental-cartridge",
   "metadata": {},
   "outputs": [
    {
     "name": "stdout",
     "output_type": "stream",
     "text": [
      "['TON', '618', 'hyperluminous', ',', 'broad-absorption-line', ',', 'radio-loud', 'quasar', 'Lyman-alpha', 'blob', 'located', 'near', 'border', 'constellations', 'Canes', 'Venatici', 'Coma', 'Berenices', ',', 'projected', 'comoving', 'distance', 'approximately', '18.2', 'billion', 'light-years', 'Earth', '.']\n"
     ]
    }
   ],
   "source": [
    "holder = [w for w in words if w not in set(stop_words)]\n",
    "print(holder)"
   ]
  },
  {
   "cell_type": "markdown",
   "id": "forty-worth",
   "metadata": {},
   "source": [
    "### Stemming"
   ]
  },
  {
   "cell_type": "code",
   "execution_count": 10,
   "id": "related-costs",
   "metadata": {},
   "outputs": [],
   "source": [
    "from nltk.stem import PorterStemmer, SnowballStemmer, LancasterStemmer"
   ]
  },
  {
   "cell_type": "code",
   "execution_count": 11,
   "id": "unsigned-mobile",
   "metadata": {},
   "outputs": [],
   "source": [
    "porter = PorterStemmer()\n",
    "snow = SnowballStemmer(language = 'english')\n",
    "lancaster = LancasterStemmer()"
   ]
  },
  {
   "cell_type": "code",
   "execution_count": 12,
   "id": "ready-inside",
   "metadata": {},
   "outputs": [],
   "source": [
    "words = ['play', 'plays', 'played', 'playing', 'player']"
   ]
  },
  {
   "cell_type": "markdown",
   "id": "prostate-commitment",
   "metadata": {},
   "source": [
    "#### Porter Stemmer"
   ]
  },
  {
   "cell_type": "code",
   "execution_count": 13,
   "id": "involved-cherry",
   "metadata": {},
   "outputs": [],
   "source": [
    "porter_stemmed = list()\n",
    "for w in words:\n",
    "    stemmed_words = porter.stem(w)\n",
    "    porter_stemmed.append(stemmed_words)"
   ]
  },
  {
   "cell_type": "code",
   "execution_count": 14,
   "id": "narrative-auditor",
   "metadata": {},
   "outputs": [
    {
     "data": {
      "text/plain": [
       "['play', 'play', 'play', 'play', 'player']"
      ]
     },
     "execution_count": 14,
     "metadata": {},
     "output_type": "execute_result"
    }
   ],
   "source": [
    "porter_stemmed"
   ]
  },
  {
   "cell_type": "markdown",
   "id": "mobile-giant",
   "metadata": {},
   "source": [
    "#### Porter Stemmer List Comprehension"
   ]
  },
  {
   "cell_type": "code",
   "execution_count": 15,
   "id": "juvenile-assets",
   "metadata": {},
   "outputs": [
    {
     "name": "stdout",
     "output_type": "stream",
     "text": [
      "['play', 'play', 'play', 'play', 'player']\n"
     ]
    }
   ],
   "source": [
    "porter_stemmed = [porter.stem(x) for x in words]\n",
    "print (porter_stemmed)"
   ]
  },
  {
   "cell_type": "markdown",
   "id": "japanese-piece",
   "metadata": {},
   "source": [
    "#### Snowball Stemmer"
   ]
  },
  {
   "cell_type": "code",
   "execution_count": 16,
   "id": "skilled-coordinate",
   "metadata": {},
   "outputs": [],
   "source": [
    "snow_stemmed = list()\n",
    "for w in words:\n",
    "    stemmed_words = snow.stem(w)\n",
    "    snow_stemmed.append(stemmed_words)"
   ]
  },
  {
   "cell_type": "code",
   "execution_count": 17,
   "id": "compressed-constitution",
   "metadata": {},
   "outputs": [
    {
     "data": {
      "text/plain": [
       "['play', 'play', 'play', 'play', 'player']"
      ]
     },
     "execution_count": 17,
     "metadata": {},
     "output_type": "execute_result"
    }
   ],
   "source": [
    "snow_stemmed"
   ]
  },
  {
   "cell_type": "markdown",
   "id": "handled-preparation",
   "metadata": {},
   "source": [
    "#### Snowball Stemmer List Comprehension"
   ]
  },
  {
   "cell_type": "code",
   "execution_count": 18,
   "id": "aboriginal-checklist",
   "metadata": {},
   "outputs": [
    {
     "name": "stdout",
     "output_type": "stream",
     "text": [
      "['play', 'play', 'play', 'play', 'player']\n"
     ]
    }
   ],
   "source": [
    "snow_stemmed = [snow.stem(x) for x in words]\n",
    "print (snow_stemmed)"
   ]
  },
  {
   "cell_type": "markdown",
   "id": "narrative-graduation",
   "metadata": {},
   "source": [
    "#### Lancaster Stemmer"
   ]
  },
  {
   "cell_type": "code",
   "execution_count": 19,
   "id": "gorgeous-omega",
   "metadata": {},
   "outputs": [],
   "source": [
    "lancaster_stemmed = list()\n",
    "for w in words:\n",
    "    stemmed_words = lancaster.stem(w)\n",
    "    lancaster_stemmed.append(stemmed_words)"
   ]
  },
  {
   "cell_type": "code",
   "execution_count": 20,
   "id": "funded-draft",
   "metadata": {},
   "outputs": [
    {
     "data": {
      "text/plain": [
       "['play', 'play', 'play', 'play', 'play']"
      ]
     },
     "execution_count": 20,
     "metadata": {},
     "output_type": "execute_result"
    }
   ],
   "source": [
    "lancaster_stemmed"
   ]
  },
  {
   "cell_type": "markdown",
   "id": "stupid-jordan",
   "metadata": {},
   "source": [
    "#### Lancaster Stemmer List Comprehension"
   ]
  },
  {
   "cell_type": "code",
   "execution_count": 21,
   "id": "seven-world",
   "metadata": {},
   "outputs": [
    {
     "name": "stdout",
     "output_type": "stream",
     "text": [
      "['play', 'play', 'play', 'play', 'play']\n"
     ]
    }
   ],
   "source": [
    "lancaster_stemmed = [lancaster.stem(x) for x in words]\n",
    "print (lancaster_stemmed)"
   ]
  },
  {
   "cell_type": "markdown",
   "id": "wanted-wallace",
   "metadata": {},
   "source": [
    "### Lemmatization : This has a more expansive vocabulary than Stemming"
   ]
  },
  {
   "cell_type": "code",
   "execution_count": 22,
   "id": "coated-sport",
   "metadata": {},
   "outputs": [],
   "source": [
    "from nltk.stem import WordNetLemmatizer\n",
    "wordnet = WordNetLemmatizer()"
   ]
  },
  {
   "cell_type": "code",
   "execution_count": 23,
   "id": "impressed-switzerland",
   "metadata": {},
   "outputs": [],
   "source": [
    "lemmatized = [wordnet.lemmatize(x) for x in words]"
   ]
  },
  {
   "cell_type": "code",
   "execution_count": 24,
   "id": "removed-company",
   "metadata": {},
   "outputs": [
    {
     "data": {
      "text/plain": [
       "['play', 'play', 'played', 'playing', 'player']"
      ]
     },
     "execution_count": 24,
     "metadata": {},
     "output_type": "execute_result"
    }
   ],
   "source": [
    "lemmatized"
   ]
  }
 ],
 "metadata": {
  "kernelspec": {
   "display_name": "Python 3",
   "language": "python",
   "name": "python3"
  },
  "language_info": {
   "codemirror_mode": {
    "name": "ipython",
    "version": 3
   },
   "file_extension": ".py",
   "mimetype": "text/x-python",
   "name": "python",
   "nbconvert_exporter": "python",
   "pygments_lexer": "ipython3",
   "version": "3.7.0"
  }
 },
 "nbformat": 4,
 "nbformat_minor": 5
}
