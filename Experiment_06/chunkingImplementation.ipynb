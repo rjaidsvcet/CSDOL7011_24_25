{
 "cells": [
  {
   "cell_type": "code",
   "execution_count": 1,
   "id": "exciting-identity",
   "metadata": {},
   "outputs": [
    {
     "name": "stderr",
     "output_type": "stream",
     "text": [
      "[nltk_data] Downloading package punkt to\n",
      "[nltk_data]     C:\\Users\\admin\\AppData\\Roaming\\nltk_data...\n",
      "[nltk_data]   Package punkt is already up-to-date!\n",
      "[nltk_data] Downloading package averaged_perceptron_tagger to\n",
      "[nltk_data]     C:\\Users\\admin\\AppData\\Roaming\\nltk_data...\n",
      "[nltk_data]   Package averaged_perceptron_tagger is already up-to-\n",
      "[nltk_data]       date!\n"
     ]
    },
    {
     "data": {
      "text/plain": [
       "True"
      ]
     },
     "execution_count": 1,
     "metadata": {},
     "output_type": "execute_result"
    }
   ],
   "source": [
    "import nltk\n",
    "nltk.download('punkt')\n",
    "nltk.download('averaged_perceptron_tagger')"
   ]
  },
  {
   "cell_type": "code",
   "execution_count": 2,
   "id": "parliamentary-alpha",
   "metadata": {},
   "outputs": [],
   "source": [
    "from nltk.chunk import RegexpParser\n",
    "from nltk.tokenize import word_tokenize"
   ]
  },
  {
   "cell_type": "code",
   "execution_count": 3,
   "id": "subject-coordinator",
   "metadata": {},
   "outputs": [],
   "source": [
    "sentence = \"Educative Answers is a free web encyclopedia written by devs for devs.\""
   ]
  },
  {
   "cell_type": "markdown",
   "id": "featured-pennsylvania",
   "metadata": {},
   "source": [
    "### Tokenization"
   ]
  },
  {
   "cell_type": "code",
   "execution_count": 4,
   "id": "massive-deposit",
   "metadata": {},
   "outputs": [],
   "source": [
    "tokens = word_tokenize(sentence)"
   ]
  },
  {
   "cell_type": "code",
   "execution_count": 5,
   "id": "curious-coaching",
   "metadata": {},
   "outputs": [
    {
     "data": {
      "text/plain": [
       "['Educative',\n",
       " 'Answers',\n",
       " 'is',\n",
       " 'a',\n",
       " 'free',\n",
       " 'web',\n",
       " 'encyclopedia',\n",
       " 'written',\n",
       " 'by',\n",
       " 'devs',\n",
       " 'for',\n",
       " 'devs',\n",
       " '.']"
      ]
     },
     "execution_count": 5,
     "metadata": {},
     "output_type": "execute_result"
    }
   ],
   "source": [
    "tokens"
   ]
  },
  {
   "cell_type": "markdown",
   "id": "possible-strengthening",
   "metadata": {},
   "source": [
    "### POS tagging"
   ]
  },
  {
   "cell_type": "code",
   "execution_count": 6,
   "id": "liberal-convenience",
   "metadata": {},
   "outputs": [],
   "source": [
    "pos_tags = nltk.pos_tag(tokens)"
   ]
  },
  {
   "cell_type": "code",
   "execution_count": 7,
   "id": "unavailable-northeast",
   "metadata": {},
   "outputs": [
    {
     "data": {
      "text/plain": [
       "[('Educative', 'JJ'),\n",
       " ('Answers', 'NNPS'),\n",
       " ('is', 'VBZ'),\n",
       " ('a', 'DT'),\n",
       " ('free', 'JJ'),\n",
       " ('web', 'NN'),\n",
       " ('encyclopedia', 'NN'),\n",
       " ('written', 'VBN'),\n",
       " ('by', 'IN'),\n",
       " ('devs', 'NN'),\n",
       " ('for', 'IN'),\n",
       " ('devs', 'NN'),\n",
       " ('.', '.')]"
      ]
     },
     "execution_count": 7,
     "metadata": {},
     "output_type": "execute_result"
    }
   ],
   "source": [
    "pos_tags"
   ]
  },
  {
   "cell_type": "markdown",
   "id": "sitting-pencil",
   "metadata": {},
   "source": [
    "### Chunking patterns"
   ]
  },
  {
   "cell_type": "code",
   "execution_count": 8,
   "id": "surrounded-straight",
   "metadata": {},
   "outputs": [],
   "source": [
    "chunk_patterns = r\"\"\"\n",
    "    NP: {<DT>?<JJ>*<NN>}  # Chunk noun phrases\n",
    "    VP: {<VB.*><NP|PP>}  # Chunk verb phrases\n",
    "\"\"\""
   ]
  },
  {
   "cell_type": "code",
   "execution_count": 9,
   "id": "abstract-banks",
   "metadata": {},
   "outputs": [
    {
     "data": {
      "text/plain": [
       "'\\n    NP: {<DT>?<JJ>*<NN>}  # Chunk noun phrases\\n    VP: {<VB.*><NP|PP>}  # Chunk verb phrases\\n'"
      ]
     },
     "execution_count": 9,
     "metadata": {},
     "output_type": "execute_result"
    }
   ],
   "source": [
    "chunk_patterns"
   ]
  },
  {
   "cell_type": "markdown",
   "id": "banner-reset",
   "metadata": {},
   "source": [
    "### Create a chunk parser"
   ]
  },
  {
   "cell_type": "code",
   "execution_count": 10,
   "id": "intended-connectivity",
   "metadata": {},
   "outputs": [],
   "source": [
    "chunk_parser = RegexpParser(chunk_patterns)"
   ]
  },
  {
   "cell_type": "code",
   "execution_count": 11,
   "id": "soviet-difference",
   "metadata": {},
   "outputs": [
    {
     "data": {
      "text/plain": [
       "<chunk.RegexpParser with 2 stages>"
      ]
     },
     "execution_count": 11,
     "metadata": {},
     "output_type": "execute_result"
    }
   ],
   "source": [
    "chunk_parser"
   ]
  },
  {
   "cell_type": "markdown",
   "id": "existing-placement",
   "metadata": {},
   "source": [
    "### Perform chunking"
   ]
  },
  {
   "cell_type": "code",
   "execution_count": 12,
   "id": "exclusive-manor",
   "metadata": {},
   "outputs": [],
   "source": [
    "result = chunk_parser.parse(pos_tags)"
   ]
  },
  {
   "cell_type": "code",
   "execution_count": 13,
   "id": "figured-compromise",
   "metadata": {},
   "outputs": [
    {
     "name": "stdout",
     "output_type": "stream",
     "text": [
      "(S\n",
      "  Educative/JJ\n",
      "  Answers/NNPS\n",
      "  (VP is/VBZ (NP a/DT free/JJ web/NN))\n",
      "  (NP encyclopedia/NN)\n",
      "  written/VBN\n",
      "  by/IN\n",
      "  (NP devs/NN)\n",
      "  for/IN\n",
      "  (NP devs/NN)\n",
      "  ./.)\n"
     ]
    }
   ],
   "source": [
    "print(result)"
   ]
  }
 ],
 "metadata": {
  "kernelspec": {
   "display_name": "Python 3 (ipykernel)",
   "language": "python",
   "name": "python3"
  },
  "language_info": {
   "codemirror_mode": {
    "name": "ipython",
    "version": 3
   },
   "file_extension": ".py",
   "mimetype": "text/x-python",
   "name": "python",
   "nbconvert_exporter": "python",
   "pygments_lexer": "ipython3",
   "version": "3.11.5"
  }
 },
 "nbformat": 4,
 "nbformat_minor": 5
}
