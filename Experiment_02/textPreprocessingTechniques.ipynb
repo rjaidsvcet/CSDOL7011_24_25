{
 "cells": [
  {
   "cell_type": "markdown",
   "id": "excessive-adrian",
   "metadata": {},
   "source": [
    "Experiment 02 ~ NLP DLOC ~ Raunak Joshi ~ Dept. of AI \\& DS ~ VCET"
   ]
  },
  {
   "cell_type": "markdown",
   "id": "regular-fellow",
   "metadata": {},
   "source": [
    "### Library required for Preprocessing"
   ]
  },
  {
   "cell_type": "code",
   "execution_count": 1,
   "id": "million-methodology",
   "metadata": {},
   "outputs": [
    {
     "name": "stdout",
     "output_type": "stream",
     "text": [
      "Requirement already satisfied: nltk in c:\\users\\admin\\appdata\\local\\programs\\python\\python37\\lib\\site-packages (3.6.2)\n",
      "Requirement already satisfied: tqdm in c:\\users\\admin\\appdata\\local\\programs\\python\\python37\\lib\\site-packages (from nltk) (4.60.0)\n",
      "Requirement already satisfied: joblib in c:\\users\\admin\\appdata\\local\\programs\\python\\python37\\lib\\site-packages (from nltk) (1.0.0)\n",
      "Requirement already satisfied: click in c:\\users\\admin\\appdata\\local\\programs\\python\\python37\\lib\\site-packages (from nltk) (7.1.2)\n",
      "Requirement already satisfied: regex in c:\\users\\admin\\appdata\\local\\programs\\python\\python37\\lib\\site-packages (from nltk) (2021.4.4)\n"
     ]
    },
    {
     "name": "stderr",
     "output_type": "stream",
     "text": [
      "WARNING: You are using pip version 22.0; however, version 23.2.1 is available.\n",
      "You should consider upgrading via the 'c:\\users\\admin\\appdata\\local\\programs\\python\\python37\\python.exe -m pip install --upgrade pip' command.\n"
     ]
    }
   ],
   "source": [
    "!pip install nltk"
   ]
  },
  {
   "cell_type": "code",
   "execution_count": 2,
   "id": "alien-breathing",
   "metadata": {},
   "outputs": [],
   "source": [
    "import nltk"
   ]
  },
  {
   "cell_type": "code",
   "execution_count": 3,
   "id": "juvenile-powder",
   "metadata": {},
   "outputs": [
    {
     "name": "stdout",
     "output_type": "stream",
     "text": [
      "showing info https://raw.githubusercontent.com/nltk/nltk_data/gh-pages/index.xml\n"
     ]
    },
    {
     "data": {
      "text/plain": [
       "True"
      ]
     },
     "execution_count": 3,
     "metadata": {},
     "output_type": "execute_result"
    }
   ],
   "source": [
    "nltk.download()"
   ]
  },
  {
   "cell_type": "markdown",
   "id": "funded-pontiac",
   "metadata": {},
   "source": [
    "### Sentence Tokenization"
   ]
  },
  {
   "cell_type": "code",
   "execution_count": 4,
   "id": "offshore-contrast",
   "metadata": {},
   "outputs": [],
   "source": [
    "from nltk.tokenize import sent_tokenize"
   ]
  },
  {
   "cell_type": "code",
   "execution_count": 15,
   "id": "tested-portable",
   "metadata": {},
   "outputs": [],
   "source": [
    "text = '''Stephenson 2-18 is now known as being one of the largest, if not the current largest star ever discovered, surpassing other stars like VY Canis Majoris and UY Scuti.\n",
    "        Stephenson 2-18 has a radius of 2,150 solar radii, being larger than almost the entire orbit of Saturn (1,940 - 2,169 solar radii).'''"
   ]
  },
  {
   "cell_type": "code",
   "execution_count": 16,
   "id": "handmade-wedding",
   "metadata": {},
   "outputs": [
    {
     "data": {
      "text/plain": [
       "'Stephenson 2-18 is now known as being one of the largest, if not the current largest star ever discovered, surpassing other stars like VY Canis Majoris and UY Scuti.\\n        Stephenson 2-18 has a radius of 2,150 solar radii, being larger than almost the entire orbit of Saturn (1,940 - 2,169 solar radii).'"
      ]
     },
     "execution_count": 16,
     "metadata": {},
     "output_type": "execute_result"
    }
   ],
   "source": [
    "text"
   ]
  },
  {
   "cell_type": "code",
   "execution_count": 17,
   "id": "curious-legislature",
   "metadata": {},
   "outputs": [],
   "source": [
    "sentences = sent_tokenize (text)"
   ]
  },
  {
   "cell_type": "code",
   "execution_count": 18,
   "id": "bored-narrative",
   "metadata": {},
   "outputs": [
    {
     "data": {
      "text/plain": [
       "['Stephenson 2-18 is now known as being one of the largest, if not the current largest star ever discovered, surpassing other stars like VY Canis Majoris and UY Scuti.',\n",
       " 'Stephenson 2-18 has a radius of 2,150 solar radii, being larger than almost the entire orbit of Saturn (1,940 - 2,169 solar radii).']"
      ]
     },
     "execution_count": 18,
     "metadata": {},
     "output_type": "execute_result"
    }
   ],
   "source": [
    "sentences"
   ]
  },
  {
   "cell_type": "markdown",
   "id": "suitable-franchise",
   "metadata": {},
   "source": [
    "### Word Tokenization"
   ]
  },
  {
   "cell_type": "code",
   "execution_count": 19,
   "id": "alien-basin",
   "metadata": {},
   "outputs": [],
   "source": [
    "from nltk.tokenize import word_tokenize"
   ]
  },
  {
   "cell_type": "code",
   "execution_count": 20,
   "id": "innovative-hayes",
   "metadata": {},
   "outputs": [],
   "source": [
    "words = word_tokenize (text)"
   ]
  },
  {
   "cell_type": "code",
   "execution_count": 21,
   "id": "sporting-medicare",
   "metadata": {},
   "outputs": [
    {
     "data": {
      "text/plain": [
       "['Stephenson',\n",
       " '2-18',\n",
       " 'is',\n",
       " 'now',\n",
       " 'known',\n",
       " 'as',\n",
       " 'being',\n",
       " 'one',\n",
       " 'of',\n",
       " 'the',\n",
       " 'largest',\n",
       " ',',\n",
       " 'if',\n",
       " 'not',\n",
       " 'the',\n",
       " 'current',\n",
       " 'largest',\n",
       " 'star',\n",
       " 'ever',\n",
       " 'discovered',\n",
       " ',',\n",
       " 'surpassing',\n",
       " 'other',\n",
       " 'stars',\n",
       " 'like',\n",
       " 'VY',\n",
       " 'Canis',\n",
       " 'Majoris',\n",
       " 'and',\n",
       " 'UY',\n",
       " 'Scuti',\n",
       " '.',\n",
       " 'Stephenson',\n",
       " '2-18',\n",
       " 'has',\n",
       " 'a',\n",
       " 'radius',\n",
       " 'of',\n",
       " '2,150',\n",
       " 'solar',\n",
       " 'radii',\n",
       " ',',\n",
       " 'being',\n",
       " 'larger',\n",
       " 'than',\n",
       " 'almost',\n",
       " 'the',\n",
       " 'entire',\n",
       " 'orbit',\n",
       " 'of',\n",
       " 'Saturn',\n",
       " '(',\n",
       " '1,940',\n",
       " '-',\n",
       " '2,169',\n",
       " 'solar',\n",
       " 'radii',\n",
       " ')',\n",
       " '.']"
      ]
     },
     "execution_count": 21,
     "metadata": {},
     "output_type": "execute_result"
    }
   ],
   "source": [
    "words"
   ]
  },
  {
   "cell_type": "code",
   "execution_count": 22,
   "id": "hybrid-motivation",
   "metadata": {},
   "outputs": [
    {
     "name": "stdout",
     "output_type": "stream",
     "text": [
      "Stephenson\n",
      "2-18\n",
      "is\n",
      "now\n",
      "known\n",
      "as\n",
      "being\n",
      "one\n",
      "of\n",
      "the\n",
      "largest\n",
      ",\n",
      "if\n",
      "not\n",
      "the\n",
      "current\n",
      "largest\n",
      "star\n",
      "ever\n",
      "discovered\n",
      ",\n",
      "surpassing\n",
      "other\n",
      "stars\n",
      "like\n",
      "VY\n",
      "Canis\n",
      "Majoris\n",
      "and\n",
      "UY\n",
      "Scuti\n",
      ".\n",
      "Stephenson\n",
      "2-18\n",
      "has\n",
      "a\n",
      "radius\n",
      "of\n",
      "2,150\n",
      "solar\n",
      "radii\n",
      ",\n",
      "being\n",
      "larger\n",
      "than\n",
      "almost\n",
      "the\n",
      "entire\n",
      "orbit\n",
      "of\n",
      "Saturn\n",
      "(\n",
      "1,940\n",
      "-\n",
      "2,169\n",
      "solar\n",
      "radii\n",
      ")\n",
      ".\n"
     ]
    }
   ],
   "source": [
    "for w in words:\n",
    "    print (w)"
   ]
  },
  {
   "cell_type": "markdown",
   "id": "related-submission",
   "metadata": {},
   "source": [
    "### Levels of Sentences Tokenization using Comprehension"
   ]
  },
  {
   "cell_type": "code",
   "execution_count": 23,
   "id": "german-vintage",
   "metadata": {},
   "outputs": [
    {
     "data": {
      "text/plain": [
       "['Stephenson 2-18 is now known as being one of the largest, if not the current largest star ever discovered, surpassing other stars like VY Canis Majoris and UY Scuti.',\n",
       " 'Stephenson 2-18 has a radius of 2,150 solar radii, being larger than almost the entire orbit of Saturn (1,940 - 2,169 solar radii).']"
      ]
     },
     "execution_count": 23,
     "metadata": {},
     "output_type": "execute_result"
    }
   ],
   "source": [
    "sent_tokenize (text)"
   ]
  },
  {
   "cell_type": "code",
   "execution_count": 24,
   "id": "cardiovascular-hazard",
   "metadata": {},
   "outputs": [
    {
     "data": {
      "text/plain": [
       "[['Stephenson',\n",
       "  '2-18',\n",
       "  'is',\n",
       "  'now',\n",
       "  'known',\n",
       "  'as',\n",
       "  'being',\n",
       "  'one',\n",
       "  'of',\n",
       "  'the',\n",
       "  'largest',\n",
       "  ',',\n",
       "  'if',\n",
       "  'not',\n",
       "  'the',\n",
       "  'current',\n",
       "  'largest',\n",
       "  'star',\n",
       "  'ever',\n",
       "  'discovered',\n",
       "  ',',\n",
       "  'surpassing',\n",
       "  'other',\n",
       "  'stars',\n",
       "  'like',\n",
       "  'VY',\n",
       "  'Canis',\n",
       "  'Majoris',\n",
       "  'and',\n",
       "  'UY',\n",
       "  'Scuti',\n",
       "  '.',\n",
       "  'Stephenson',\n",
       "  '2-18',\n",
       "  'has',\n",
       "  'a',\n",
       "  'radius',\n",
       "  'of',\n",
       "  '2,150',\n",
       "  'solar',\n",
       "  'radii',\n",
       "  ',',\n",
       "  'being',\n",
       "  'larger',\n",
       "  'than',\n",
       "  'almost',\n",
       "  'the',\n",
       "  'entire',\n",
       "  'orbit',\n",
       "  'of',\n",
       "  'Saturn',\n",
       "  '(',\n",
       "  '1,940',\n",
       "  '-',\n",
       "  '2,169',\n",
       "  'solar',\n",
       "  'radii',\n",
       "  ')',\n",
       "  '.'],\n",
       " ['Stephenson',\n",
       "  '2-18',\n",
       "  'is',\n",
       "  'now',\n",
       "  'known',\n",
       "  'as',\n",
       "  'being',\n",
       "  'one',\n",
       "  'of',\n",
       "  'the',\n",
       "  'largest',\n",
       "  ',',\n",
       "  'if',\n",
       "  'not',\n",
       "  'the',\n",
       "  'current',\n",
       "  'largest',\n",
       "  'star',\n",
       "  'ever',\n",
       "  'discovered',\n",
       "  ',',\n",
       "  'surpassing',\n",
       "  'other',\n",
       "  'stars',\n",
       "  'like',\n",
       "  'VY',\n",
       "  'Canis',\n",
       "  'Majoris',\n",
       "  'and',\n",
       "  'UY',\n",
       "  'Scuti',\n",
       "  '.',\n",
       "  'Stephenson',\n",
       "  '2-18',\n",
       "  'has',\n",
       "  'a',\n",
       "  'radius',\n",
       "  'of',\n",
       "  '2,150',\n",
       "  'solar',\n",
       "  'radii',\n",
       "  ',',\n",
       "  'being',\n",
       "  'larger',\n",
       "  'than',\n",
       "  'almost',\n",
       "  'the',\n",
       "  'entire',\n",
       "  'orbit',\n",
       "  'of',\n",
       "  'Saturn',\n",
       "  '(',\n",
       "  '1,940',\n",
       "  '-',\n",
       "  '2,169',\n",
       "  'solar',\n",
       "  'radii',\n",
       "  ')',\n",
       "  '.']]"
      ]
     },
     "execution_count": 24,
     "metadata": {},
     "output_type": "execute_result"
    }
   ],
   "source": [
    "[word_tokenize (text) for t in sent_tokenize(text)] "
   ]
  },
  {
   "cell_type": "code",
   "execution_count": 25,
   "id": "saving-trade",
   "metadata": {},
   "outputs": [],
   "source": [
    "from nltk.tokenize import wordpunct_tokenize"
   ]
  },
  {
   "cell_type": "code",
   "execution_count": 26,
   "id": "decimal-presence",
   "metadata": {},
   "outputs": [
    {
     "data": {
      "text/plain": [
       "['Stephenson',\n",
       " '2',\n",
       " '-',\n",
       " '18',\n",
       " 'is',\n",
       " 'now',\n",
       " 'known',\n",
       " 'as',\n",
       " 'being',\n",
       " 'one',\n",
       " 'of',\n",
       " 'the',\n",
       " 'largest',\n",
       " ',',\n",
       " 'if',\n",
       " 'not',\n",
       " 'the',\n",
       " 'current',\n",
       " 'largest',\n",
       " 'star',\n",
       " 'ever',\n",
       " 'discovered',\n",
       " ',',\n",
       " 'surpassing',\n",
       " 'other',\n",
       " 'stars',\n",
       " 'like',\n",
       " 'VY',\n",
       " 'Canis',\n",
       " 'Majoris',\n",
       " 'and',\n",
       " 'UY',\n",
       " 'Scuti',\n",
       " '.',\n",
       " 'Stephenson',\n",
       " '2',\n",
       " '-',\n",
       " '18',\n",
       " 'has',\n",
       " 'a',\n",
       " 'radius',\n",
       " 'of',\n",
       " '2',\n",
       " ',',\n",
       " '150',\n",
       " 'solar',\n",
       " 'radii',\n",
       " ',',\n",
       " 'being',\n",
       " 'larger',\n",
       " 'than',\n",
       " 'almost',\n",
       " 'the',\n",
       " 'entire',\n",
       " 'orbit',\n",
       " 'of',\n",
       " 'Saturn',\n",
       " '(',\n",
       " '1',\n",
       " ',',\n",
       " '940',\n",
       " '-',\n",
       " '2',\n",
       " ',',\n",
       " '169',\n",
       " 'solar',\n",
       " 'radii',\n",
       " ').']"
      ]
     },
     "execution_count": 26,
     "metadata": {},
     "output_type": "execute_result"
    }
   ],
   "source": [
    "wordpunct_tokenize (text) "
   ]
  },
  {
   "cell_type": "markdown",
   "id": "equal-kitty",
   "metadata": {},
   "source": [
    "### Filteration of Text by converting into lower case"
   ]
  },
  {
   "cell_type": "code",
   "execution_count": 27,
   "id": "alpha-cannon",
   "metadata": {},
   "outputs": [
    {
     "data": {
      "text/plain": [
       "'stephenson 2-18 is now known as being one of the largest, if not the current largest star ever discovered, surpassing other stars like vy canis majoris and uy scuti.\\n        stephenson 2-18 has a radius of 2,150 solar radii, being larger than almost the entire orbit of saturn (1,940 - 2,169 solar radii).'"
      ]
     },
     "execution_count": 27,
     "metadata": {},
     "output_type": "execute_result"
    }
   ],
   "source": [
    "text.lower()"
   ]
  },
  {
   "cell_type": "code",
   "execution_count": 28,
   "id": "bulgarian-performer",
   "metadata": {},
   "outputs": [
    {
     "data": {
      "text/plain": [
       "'STEPHENSON 2-18 IS NOW KNOWN AS BEING ONE OF THE LARGEST, IF NOT THE CURRENT LARGEST STAR EVER DISCOVERED, SURPASSING OTHER STARS LIKE VY CANIS MAJORIS AND UY SCUTI.\\n        STEPHENSON 2-18 HAS A RADIUS OF 2,150 SOLAR RADII, BEING LARGER THAN ALMOST THE ENTIRE ORBIT OF SATURN (1,940 - 2,169 SOLAR RADII).'"
      ]
     },
     "execution_count": 28,
     "metadata": {},
     "output_type": "execute_result"
    }
   ],
   "source": [
    "text.upper()"
   ]
  }
 ],
 "metadata": {
  "kernelspec": {
   "display_name": "Python 3",
   "language": "python",
   "name": "python3"
  },
  "language_info": {
   "codemirror_mode": {
    "name": "ipython",
    "version": 3
   },
   "file_extension": ".py",
   "mimetype": "text/x-python",
   "name": "python",
   "nbconvert_exporter": "python",
   "pygments_lexer": "ipython3",
   "version": "3.7.0"
  }
 },
 "nbformat": 4,
 "nbformat_minor": 5
}
