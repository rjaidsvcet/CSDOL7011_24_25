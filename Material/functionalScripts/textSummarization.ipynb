{
 "cells": [
  {
   "cell_type": "code",
   "execution_count": 10,
   "id": "51818f9e-5893-4171-aaee-8aed4902fd10",
   "metadata": {},
   "outputs": [],
   "source": [
    "import nltk\n",
    "from nltk.corpus import stopwords\n",
    "from nltk.cluster.util import cosine_distance\n",
    "from nltk.tokenize import sent_tokenize\n",
    "import numpy as np\n",
    "import networkx as nx\n",
    "import re"
   ]
  },
  {
   "cell_type": "code",
   "execution_count": 11,
   "id": "7c7f8dd6-90ad-47d5-a69a-f47cd83661c5",
   "metadata": {},
   "outputs": [],
   "source": [
    "def read_article (text):\n",
    "    sentences = list ()\n",
    "    sentences = sent_tokenize (text)\n",
    "    for sentence in sentences:\n",
    "        sentence.replace (\"[^a-zA-Z0-9]\", \" \")\n",
    "    return sentences"
   ]
  },
  {
   "cell_type": "code",
   "execution_count": 12,
   "id": "d7c8b41d-35da-4c88-97e3-b9d8dd3cae31",
   "metadata": {},
   "outputs": [],
   "source": [
    "def sentence_similarity (sent1, sent2, stopwords=None):\n",
    "    if stopwords is None:\n",
    "        stopwords = list ()\n",
    "\n",
    "    sent1 = [w.lower () for w in sent1]\n",
    "    sent2 = [w.lower () for w in sent2]\n",
    "\n",
    "    all_words = list (set (sent1 + sent2))\n",
    "\n",
    "    vector1 = [0] * len (all_words)\n",
    "    vector2 = [0] * len (all_words)\n",
    "\n",
    "    for w in sent1:\n",
    "        if not w in stopwords:\n",
    "            vector1[all_words.index (w)] += 1\n",
    "\n",
    "    for w in sent2:\n",
    "        if not w in stopwords:\n",
    "            vector2[all_words.index (w)] += 1\n",
    "\n",
    "    return 1 - cosine_distance (vector1, vector2)"
   ]
  },
  {
   "cell_type": "code",
   "execution_count": 13,
   "id": "d42d1416-acff-4772-845b-446140e4455c",
   "metadata": {},
   "outputs": [],
   "source": [
    "def build_similarity_matrix (sentences, stop_words):\n",
    "    similarity_matrix = np.zeros ((len (sentences), len(sentences)))\n",
    "\n",
    "    for idx1 in range (len (sentences)):\n",
    "        for idx2 in range (len (sentences)):\n",
    "            if idx1 != idx2:\n",
    "                similarity_matrix[idx1][idx2] = sentence_similarity (sentences[idx1], sentences[idx2], stop_words)\n",
    "\n",
    "    return similarity_matrix                "
   ]
  },
  {
   "cell_type": "code",
   "execution_count": 20,
   "id": "ab405792-7794-4fbe-a5a4-30f0975d21cc",
   "metadata": {},
   "outputs": [],
   "source": [
    "def generate_summary (text, top_n):\n",
    "    stop_words = stopwords.words ('english')\n",
    "    summarize_text = list ()\n",
    "\n",
    "    # Step 1 : Preprocessing\n",
    "    sentences = read_article (text)\n",
    "\n",
    "    # Step 2 : Embeddings\n",
    "    sentence_similarity_matrix = build_similarity_matrix (sentences, stop_words)\n",
    "\n",
    "    # Step 3 : Cosine Similarity\n",
    "    sentence_similarity_graph = nx.from_numpy_array (sentence_similarity_matrix)\n",
    "    scores = nx.pagerank (sentence_similarity_graph)\n",
    "\n",
    "    # Step 4 : Ranking\n",
    "    ranked_sentences = sorted (((scores[i], s) for i, s in enumerate (sentences)), reverse=True)\n",
    "\n",
    "    # Step 5 : Get highest ranked sentences\n",
    "    for i in range (top_n):\n",
    "        summarize_text.append (ranked_sentences[i][1])\n",
    "\n",
    "    # Step 6 : Output\n",
    "    return \" \".join (summarize_text), len (sentences)"
   ]
  },
  {
   "cell_type": "code",
   "execution_count": 21,
   "id": "1d56b526-cd11-4c46-8bb9-9953062e0586",
   "metadata": {},
   "outputs": [],
   "source": [
    "genericText = '''\n",
    "    To meet the challenge of ensuring excellence in engineering education, the issue of quality needs to be\n",
    "addressed, debated and taken forward in a systematic manner. Accreditation is the principal meansof\n",
    "quality assurance in higher education. The major emphasis of accreditation process is to measure the\n",
    "outcomes of the program that is being accredited. In line with this Faculty of Science and Technology\n",
    "(in particular Engineering) of University of Mumbai has taken a lead in incorporating philosophy of\n",
    "outcome based education in the process of curriculum development.\n",
    "Faculty resolved that course objectives and course outcomes are to be clearly defined for each course,\n",
    "so that all faculty members in affiliated institutes understand the depth and approach of course to be\n",
    "taught, which will enhance learner’s learning process. Choice based Credit and grading system enables\n",
    "a much-required shift in focus from teacher-centric to learner-centric education since the workload\n",
    "estimated is based on the investment of time in learning and not in teaching. It also focuses on\n",
    "continuous evaluation which will enhance the quality of education. Credit assignment for courses is\n",
    "based on 15 weeks teaching learning process, however content of courses is to be taught in 13 weeks\n",
    "and remaining 2 weeks to be utilized for revision, guest lectures, coverage of content beyond syllabus\n",
    "etc.\n",
    "There was a concern that the earlier revised curriculum more focused on providing information and\n",
    "knowledge across various domains of the said program, which led to heavily loading of students in\n",
    "terms of direct contact hours. In this regard, faculty of science and technology resolved that to minimize\n",
    "the burden of contact hours, total credits of entire program will be of 170, wherein focus is not only on\n",
    "providing knowledge but also on building skills, attitude and self learning. Therefore in the present\n",
    "curriculum skill based laboratories and mini projects are made mandatory across all disciplines of\n",
    "engineering in second and third year of programs, which will definitely facilitate self learning of\n",
    "students. The overall credits and approach of curriculum proposed in the present revision isin line with\n",
    "AICTE model curriculum.\n",
    "The present curriculum will be implemented for Second Year of Engineering from the academic year\n",
    "2021-22. Subsequently this will be carried forward for Third Year and Final Year Engineering in the\n",
    "academic years 2022-23, 2023-24, respectively.\n",
    "The curriculum revision is mainly focused on knowledge component, skill based activities\n",
    "and project based activities. Self learning opportunities are provided to learners. In the revision\n",
    "process this time in particular Revised syllabus of ‘C’ scheme wherever possible additional\n",
    "resource links of platforms such as NPTEL, Swayam are appropriately provided. In an earlier\n",
    "revision of curriculum in the year 2012 and 2016 in Revised scheme ‘A' and ‘B' respectively,\n",
    "efforts were made to use online contents more appropriately as additional learning materials to\n",
    "enhance learning of students.\n",
    "In the current revision based on the recommendation of AICTE model curriculum overall credits\n",
    "are reduced to 171, to provide opportunity of self learning to learner. Learners are now getting\n",
    "sufficient time for self learning either through online courses or additional projects for enhancing\n",
    "their knowledge and skill sets.\n",
    "The Principals/ HoD’s/ Faculties of all the institute are required to motivate and encourage learners\n",
    "to use additional online resources available on platforms such as NPTEL/ Swayam. Learners can\n",
    "be advised to take up online courses, on successful completion they are required to submit\n",
    "certification for the same. This will definitely help learners to facilitate their enhanced learning\n",
    "based on their interest.\n",
    "'''\n"
   ]
  },
  {
   "cell_type": "code",
   "execution_count": 25,
   "id": "8f820548-a2c3-4b59-88a2-d3f80d76108e",
   "metadata": {},
   "outputs": [],
   "source": [
    "summary, original_length = generate_summary (genericText, 2)"
   ]
  },
  {
   "cell_type": "code",
   "execution_count": 26,
   "id": "52a7c4b8-71b0-4ada-a416-67022a681db9",
   "metadata": {},
   "outputs": [
    {
     "data": {
      "text/plain": [
       "'Faculty resolved that course objectives and course outcomes are to be clearly defined for each course,\\nso that all faculty members in affiliated institutes understand the depth and approach of course to be\\ntaught, which will enhance learner’s learning process. Therefore in the present\\ncurriculum skill based laboratories and mini projects are made mandatory across all disciplines of\\nengineering in second and third year of programs, which will definitely facilitate self learning of\\nstudents.'"
      ]
     },
     "execution_count": 26,
     "metadata": {},
     "output_type": "execute_result"
    }
   ],
   "source": [
    "summary"
   ]
  },
  {
   "cell_type": "code",
   "execution_count": 27,
   "id": "96c0c020-4fbd-41a5-833f-522090b2f316",
   "metadata": {},
   "outputs": [
    {
     "data": {
      "text/plain": [
       "23"
      ]
     },
     "execution_count": 27,
     "metadata": {},
     "output_type": "execute_result"
    }
   ],
   "source": [
    "original_length"
   ]
  },
  {
   "cell_type": "code",
   "execution_count": null,
   "id": "0594398a-ac50-456f-a0c1-4bbf8d13022a",
   "metadata": {},
   "outputs": [],
   "source": []
  }
 ],
 "metadata": {
  "kernelspec": {
   "display_name": "Python 3 (ipykernel)",
   "language": "python",
   "name": "python3"
  },
  "language_info": {
   "codemirror_mode": {
    "name": "ipython",
    "version": 3
   },
   "file_extension": ".py",
   "mimetype": "text/x-python",
   "name": "python",
   "nbconvert_exporter": "python",
   "pygments_lexer": "ipython3",
   "version": "3.11.5"
  }
 },
 "nbformat": 4,
 "nbformat_minor": 5
}
