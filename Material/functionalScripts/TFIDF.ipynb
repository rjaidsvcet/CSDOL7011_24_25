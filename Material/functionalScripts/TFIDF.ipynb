{
 "cells": [
  {
   "cell_type": "code",
   "execution_count": 1,
   "id": "4679d7a9-4945-483e-b7d9-970ccd2a8045",
   "metadata": {},
   "outputs": [],
   "source": [
    "article = '''\n",
    "Natural Language Processing course is offered by department of artificial intelligence and\n",
    "data science of vidyavardhini's college of engineering and technology. The course is attended\n",
    "by students from artificial intelligence and data science department as well as computer science\n",
    "engineering data science students.\n",
    "'''"
   ]
  },
  {
   "cell_type": "code",
   "execution_count": 2,
   "id": "0ed24a3c-ecb7-4aa1-a2a6-33c4993e6797",
   "metadata": {},
   "outputs": [
    {
     "data": {
      "text/plain": [
       "\"\\nNatural Language Processing course is offered by department of artificial intelligence and\\ndata science of vidyavardhini's college of engineering and technology. The course is attended\\nby students from artificial intelligence and data science department as well as computer science\\nengineering data science students.\\n\""
      ]
     },
     "execution_count": 2,
     "metadata": {},
     "output_type": "execute_result"
    }
   ],
   "source": [
    "article"
   ]
  },
  {
   "cell_type": "code",
   "execution_count": 3,
   "id": "f6e06b4e-06ea-4cce-8dd8-1e827a067b59",
   "metadata": {},
   "outputs": [],
   "source": [
    "import re\n",
    "from nltk import sent_tokenize"
   ]
  },
  {
   "cell_type": "code",
   "execution_count": 4,
   "id": "d77f3709-bf6d-47de-8560-fb6b5f8c2d5d",
   "metadata": {},
   "outputs": [],
   "source": [
    "from nltk.corpus import stopwords\n",
    "from nltk.stem import WordNetLemmatizer"
   ]
  },
  {
   "cell_type": "code",
   "execution_count": 5,
   "id": "0de6ceba-50b0-4674-86d5-e54b090c29b9",
   "metadata": {},
   "outputs": [],
   "source": [
    "wordnet = WordNetLemmatizer ()"
   ]
  },
  {
   "cell_type": "code",
   "execution_count": 6,
   "id": "4b5dbb79-f31d-42ac-b642-b659f957bb78",
   "metadata": {},
   "outputs": [],
   "source": [
    "sentences = sent_tokenize (article)"
   ]
  },
  {
   "cell_type": "code",
   "execution_count": 7,
   "id": "ded3e0be-c235-40a8-8443-cbdafdbc07a3",
   "metadata": {},
   "outputs": [
    {
     "data": {
      "text/plain": [
       "[\"\\nNatural Language Processing course is offered by department of artificial intelligence and\\ndata science of vidyavardhini's college of engineering and technology.\",\n",
       " 'The course is attended\\nby students from artificial intelligence and data science department as well as computer science\\nengineering data science students.']"
      ]
     },
     "execution_count": 7,
     "metadata": {},
     "output_type": "execute_result"
    }
   ],
   "source": [
    "sentences"
   ]
  },
  {
   "cell_type": "code",
   "execution_count": 8,
   "id": "cfda3964-7824-4977-9e4a-956767a1690a",
   "metadata": {},
   "outputs": [],
   "source": [
    "lemmatized_holder = list ()"
   ]
  },
  {
   "cell_type": "code",
   "execution_count": 9,
   "id": "3e2b271d-beb7-4fea-b877-a61b0166187e",
   "metadata": {},
   "outputs": [],
   "source": [
    "for i in range (len (sentences)):\n",
    "    necessary_words = re.sub ('[^a-zA-Z0-9]', ' ', sentences[i])\n",
    "    lowercase = necessary_words.lower ()\n",
    "    splitting = lowercase.split ()\n",
    "    lemma = [wordnet.lemmatize (w) for w in splitting if not w in set (stopwords.words ('english'))]\n",
    "    joining = ' '.join (lemma)\n",
    "    lemmatized_holder.append (joining)"
   ]
  },
  {
   "cell_type": "code",
   "execution_count": 10,
   "id": "d16eda2c-05aa-405b-acc4-969775e778e2",
   "metadata": {},
   "outputs": [
    {
     "data": {
      "text/plain": [
       "['natural language processing course offered department artificial intelligence data science vidyavardhini college engineering technology',\n",
       " 'course attended student artificial intelligence data science department well computer science engineering data science student']"
      ]
     },
     "execution_count": 10,
     "metadata": {},
     "output_type": "execute_result"
    }
   ],
   "source": [
    "lemmatized_holder"
   ]
  },
  {
   "cell_type": "code",
   "execution_count": 11,
   "id": "e92a2449-3f29-49f0-a1f5-f74f82529bc9",
   "metadata": {},
   "outputs": [],
   "source": [
    "from sklearn.feature_extraction.text import TfidfVectorizer"
   ]
  },
  {
   "cell_type": "code",
   "execution_count": 12,
   "id": "9bcaab33-10a1-4f05-9c6f-5a3d6e274419",
   "metadata": {},
   "outputs": [],
   "source": [
    "tfidf = TfidfVectorizer ()"
   ]
  },
  {
   "cell_type": "code",
   "execution_count": 13,
   "id": "db1d7fd1-2827-4f23-89fa-bc42c03e5a6f",
   "metadata": {},
   "outputs": [],
   "source": [
    "X_data = tfidf.fit_transform (lemmatized_holder).toarray ()"
   ]
  },
  {
   "cell_type": "code",
   "execution_count": 14,
   "id": "738416e7-c2f0-468a-a9d1-85f48b8d1524",
   "metadata": {},
   "outputs": [
    {
     "data": {
      "text/plain": [
       "array([[0.21912062, 0.        , 0.30796639, 0.        , 0.21912062,\n",
       "        0.21912062, 0.21912062, 0.21912062, 0.21912062, 0.30796639,\n",
       "        0.30796639, 0.30796639, 0.30796639, 0.21912062, 0.        ,\n",
       "        0.30796639, 0.30796639, 0.        ],\n",
       "       [0.17725559, 0.24912654, 0.        , 0.24912654, 0.17725559,\n",
       "        0.35451117, 0.17725559, 0.17725559, 0.17725559, 0.        ,\n",
       "        0.        , 0.        , 0.        , 0.53176676, 0.49825308,\n",
       "        0.        , 0.        , 0.24912654]])"
      ]
     },
     "execution_count": 14,
     "metadata": {},
     "output_type": "execute_result"
    }
   ],
   "source": [
    "X_data"
   ]
  },
  {
   "cell_type": "code",
   "execution_count": null,
   "id": "00228d5c-550e-4982-a227-16b7d5a73b69",
   "metadata": {},
   "outputs": [],
   "source": []
  }
 ],
 "metadata": {
  "kernelspec": {
   "display_name": "Python 3 (ipykernel)",
   "language": "python",
   "name": "python3"
  },
  "language_info": {
   "codemirror_mode": {
    "name": "ipython",
    "version": 3
   },
   "file_extension": ".py",
   "mimetype": "text/x-python",
   "name": "python",
   "nbconvert_exporter": "python",
   "pygments_lexer": "ipython3",
   "version": "3.11.5"
  }
 },
 "nbformat": 4,
 "nbformat_minor": 5
}
