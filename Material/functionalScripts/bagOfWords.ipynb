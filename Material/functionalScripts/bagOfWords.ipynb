{
 "cells": [
  {
   "cell_type": "code",
   "execution_count": 3,
   "id": "4679d7a9-4945-483e-b7d9-970ccd2a8045",
   "metadata": {},
   "outputs": [],
   "source": [
    "article = '''\n",
    "Natural Language Processing course is offered by department of artificial intelligence and\n",
    "data science of vidyavardhini's college of engineering and technology. The course is attended\n",
    "by students from artificial intelligence and data science department as well as computer science\n",
    "engineering data science students.\n",
    "'''"
   ]
  },
  {
   "cell_type": "code",
   "execution_count": 4,
   "id": "0ed24a3c-ecb7-4aa1-a2a6-33c4993e6797",
   "metadata": {},
   "outputs": [
    {
     "data": {
      "text/plain": [
       "\"\\nNatural Language Processing course is offered by department of artificial intelligence and\\ndata science of vidyavardhini's college of engineering and technology. The course is attended\\nby students from artificial intelligence and data science department as well as computer science\\nengineering data science students.\\n\""
      ]
     },
     "execution_count": 4,
     "metadata": {},
     "output_type": "execute_result"
    }
   ],
   "source": [
    "article"
   ]
  },
  {
   "cell_type": "code",
   "execution_count": 5,
   "id": "f6e06b4e-06ea-4cce-8dd8-1e827a067b59",
   "metadata": {},
   "outputs": [],
   "source": [
    "import re\n",
    "from nltk import sent_tokenize"
   ]
  },
  {
   "cell_type": "code",
   "execution_count": 7,
   "id": "d77f3709-bf6d-47de-8560-fb6b5f8c2d5d",
   "metadata": {},
   "outputs": [],
   "source": [
    "from nltk.corpus import stopwords\n",
    "from nltk.stem import WordNetLemmatizer"
   ]
  },
  {
   "cell_type": "code",
   "execution_count": 8,
   "id": "0de6ceba-50b0-4674-86d5-e54b090c29b9",
   "metadata": {},
   "outputs": [],
   "source": [
    "wordnet = WordNetLemmatizer ()"
   ]
  },
  {
   "cell_type": "code",
   "execution_count": 9,
   "id": "4b5dbb79-f31d-42ac-b642-b659f957bb78",
   "metadata": {},
   "outputs": [],
   "source": [
    "sentences = sent_tokenize (article)"
   ]
  },
  {
   "cell_type": "code",
   "execution_count": 10,
   "id": "ded3e0be-c235-40a8-8443-cbdafdbc07a3",
   "metadata": {},
   "outputs": [
    {
     "data": {
      "text/plain": [
       "[\"\\nNatural Language Processing course is offered by department of artificial intelligence and\\ndata science of vidyavardhini's college of engineering and technology.\",\n",
       " 'The course is attended\\nby students from artificial intelligence and data science department as well as computer science\\nengineering data science students.']"
      ]
     },
     "execution_count": 10,
     "metadata": {},
     "output_type": "execute_result"
    }
   ],
   "source": [
    "sentences"
   ]
  },
  {
   "cell_type": "code",
   "execution_count": 11,
   "id": "cfda3964-7824-4977-9e4a-956767a1690a",
   "metadata": {},
   "outputs": [],
   "source": [
    "lemmatized_holder = list ()"
   ]
  },
  {
   "cell_type": "code",
   "execution_count": 12,
   "id": "3e2b271d-beb7-4fea-b877-a61b0166187e",
   "metadata": {},
   "outputs": [],
   "source": [
    "for i in range (len (sentences)):\n",
    "    necessary_words = re.sub ('[^a-zA-Z0-9]', ' ', sentences[i])\n",
    "    lowercase = necessary_words.lower ()\n",
    "    splitting = lowercase.split ()\n",
    "    lemma = [wordnet.lemmatize (w) for w in splitting if not w in set (stopwords.words ('english'))]\n",
    "    joining = ' '.join (lemma)\n",
    "    lemmatized_holder.append (joining)"
   ]
  },
  {
   "cell_type": "code",
   "execution_count": 13,
   "id": "d16eda2c-05aa-405b-acc4-969775e778e2",
   "metadata": {},
   "outputs": [
    {
     "data": {
      "text/plain": [
       "['natural language processing course offered department artificial intelligence data science vidyavardhini college engineering technology',\n",
       " 'course attended student artificial intelligence data science department well computer science engineering data science student']"
      ]
     },
     "execution_count": 13,
     "metadata": {},
     "output_type": "execute_result"
    }
   ],
   "source": [
    "lemmatized_holder"
   ]
  },
  {
   "cell_type": "code",
   "execution_count": 14,
   "id": "2068b658-af5b-4e7e-84a2-01ff92fb6e7f",
   "metadata": {},
   "outputs": [],
   "source": [
    "from sklearn.feature_extraction.text import CountVectorizer"
   ]
  },
  {
   "cell_type": "code",
   "execution_count": 15,
   "id": "082b3b06-e772-48ae-8940-ffd9906928e9",
   "metadata": {},
   "outputs": [],
   "source": [
    "bow = CountVectorizer (max_features = 2000)"
   ]
  },
  {
   "cell_type": "code",
   "execution_count": 16,
   "id": "31bc74a5-c5f4-4482-a4ce-c1024a307a13",
   "metadata": {},
   "outputs": [],
   "source": [
    "X_data = bow.fit_transform (lemmatized_holder).toarray ()"
   ]
  },
  {
   "cell_type": "code",
   "execution_count": 17,
   "id": "8f59971c-645f-4dff-904c-64b5977d9c46",
   "metadata": {},
   "outputs": [
    {
     "data": {
      "text/plain": [
       "array([[1, 0, 1, 0, 1, 1, 1, 1, 1, 1, 1, 1, 1, 1, 0, 1, 1, 0],\n",
       "       [1, 1, 0, 1, 1, 2, 1, 1, 1, 0, 0, 0, 0, 3, 2, 0, 0, 1]],\n",
       "      dtype=int64)"
      ]
     },
     "execution_count": 17,
     "metadata": {},
     "output_type": "execute_result"
    }
   ],
   "source": [
    "X_data"
   ]
  },
  {
   "cell_type": "code",
   "execution_count": null,
   "id": "e92a2449-3f29-49f0-a1f5-f74f82529bc9",
   "metadata": {},
   "outputs": [],
   "source": []
  }
 ],
 "metadata": {
  "kernelspec": {
   "display_name": "Python 3 (ipykernel)",
   "language": "python",
   "name": "python3"
  },
  "language_info": {
   "codemirror_mode": {
    "name": "ipython",
    "version": 3
   },
   "file_extension": ".py",
   "mimetype": "text/x-python",
   "name": "python",
   "nbconvert_exporter": "python",
   "pygments_lexer": "ipython3",
   "version": "3.11.5"
  }
 },
 "nbformat": 4,
 "nbformat_minor": 5
}
