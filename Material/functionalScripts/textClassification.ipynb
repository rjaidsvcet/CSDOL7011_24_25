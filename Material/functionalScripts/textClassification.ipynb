{
 "cells": [
  {
   "cell_type": "code",
   "execution_count": 1,
   "id": "fd9d565a-94bc-4239-adcd-b807faa79b37",
   "metadata": {},
   "outputs": [],
   "source": [
    "import pandas as pd"
   ]
  },
  {
   "cell_type": "code",
   "execution_count": 2,
   "id": "fcad4ca5-a77e-4b0e-b09d-6debfc019a01",
   "metadata": {},
   "outputs": [],
   "source": [
    "df = pd.read_csv ('./spam.csv')"
   ]
  },
  {
   "cell_type": "code",
   "execution_count": 3,
   "id": "c31d80ab-2f68-4544-8bb6-4092136952c1",
   "metadata": {},
   "outputs": [
    {
     "data": {
      "text/html": [
       "<div>\n",
       "<style scoped>\n",
       "    .dataframe tbody tr th:only-of-type {\n",
       "        vertical-align: middle;\n",
       "    }\n",
       "\n",
       "    .dataframe tbody tr th {\n",
       "        vertical-align: top;\n",
       "    }\n",
       "\n",
       "    .dataframe thead th {\n",
       "        text-align: right;\n",
       "    }\n",
       "</style>\n",
       "<table border=\"1\" class=\"dataframe\">\n",
       "  <thead>\n",
       "    <tr style=\"text-align: right;\">\n",
       "      <th></th>\n",
       "      <th>Category</th>\n",
       "      <th>Message</th>\n",
       "    </tr>\n",
       "  </thead>\n",
       "  <tbody>\n",
       "    <tr>\n",
       "      <th>0</th>\n",
       "      <td>0</td>\n",
       "      <td>Go until jurong point, crazy.. Available only ...</td>\n",
       "    </tr>\n",
       "    <tr>\n",
       "      <th>1</th>\n",
       "      <td>0</td>\n",
       "      <td>Ok lar... Joking wif u oni...</td>\n",
       "    </tr>\n",
       "    <tr>\n",
       "      <th>2</th>\n",
       "      <td>1</td>\n",
       "      <td>Free entry in 2 a wkly comp to win FA Cup fina...</td>\n",
       "    </tr>\n",
       "    <tr>\n",
       "      <th>3</th>\n",
       "      <td>0</td>\n",
       "      <td>U dun say so early hor... U c already then say...</td>\n",
       "    </tr>\n",
       "    <tr>\n",
       "      <th>4</th>\n",
       "      <td>0</td>\n",
       "      <td>Nah I don't think he goes to usf, he lives aro...</td>\n",
       "    </tr>\n",
       "  </tbody>\n",
       "</table>\n",
       "</div>"
      ],
      "text/plain": [
       "   Category                                            Message\n",
       "0         0  Go until jurong point, crazy.. Available only ...\n",
       "1         0                      Ok lar... Joking wif u oni...\n",
       "2         1  Free entry in 2 a wkly comp to win FA Cup fina...\n",
       "3         0  U dun say so early hor... U c already then say...\n",
       "4         0  Nah I don't think he goes to usf, he lives aro..."
      ]
     },
     "execution_count": 3,
     "metadata": {},
     "output_type": "execute_result"
    }
   ],
   "source": [
    "df.head ()"
   ]
  },
  {
   "cell_type": "code",
   "execution_count": 4,
   "id": "2eb3384e-44ed-49ad-8b8f-efe4d52ccad3",
   "metadata": {},
   "outputs": [
    {
     "data": {
      "text/plain": [
       "(5572, 2)"
      ]
     },
     "execution_count": 4,
     "metadata": {},
     "output_type": "execute_result"
    }
   ],
   "source": [
    "df.shape"
   ]
  },
  {
   "cell_type": "code",
   "execution_count": 5,
   "id": "9d94170a-9c56-4761-870d-03ced53e9837",
   "metadata": {},
   "outputs": [],
   "source": [
    "import re\n",
    "from nltk.corpus import stopwords\n",
    "from nltk.stem import PorterStemmer\n",
    "ps = PorterStemmer ()"
   ]
  },
  {
   "cell_type": "code",
   "execution_count": 6,
   "id": "df4169c3-cd42-4d92-aae0-3ac84bde1a1a",
   "metadata": {},
   "outputs": [],
   "source": [
    "text_processing = list ()"
   ]
  },
  {
   "cell_type": "code",
   "execution_count": 7,
   "id": "64b6990e-80f3-493f-94b0-a6dfde2122d0",
   "metadata": {},
   "outputs": [],
   "source": [
    "for i in range (len (df['Message'])):\n",
    "    keep_this = re.sub ('[^a-zA-Z0-9]', ' ', df['Message'][i])\n",
    "    lowercase = keep_this.lower ()\n",
    "    splitting = lowercase.split ()\n",
    "    text_processing.append (splitting)"
   ]
  },
  {
   "cell_type": "code",
   "execution_count": 8,
   "id": "606f3dc2-bb02-4c55-af5c-afc5574f3782",
   "metadata": {},
   "outputs": [],
   "source": [
    "df['Message'] = text_processing"
   ]
  },
  {
   "cell_type": "code",
   "execution_count": 9,
   "id": "cd5fdfc0-90ca-4fd6-89cb-9d098dc4ff09",
   "metadata": {},
   "outputs": [
    {
     "data": {
      "text/html": [
       "<div>\n",
       "<style scoped>\n",
       "    .dataframe tbody tr th:only-of-type {\n",
       "        vertical-align: middle;\n",
       "    }\n",
       "\n",
       "    .dataframe tbody tr th {\n",
       "        vertical-align: top;\n",
       "    }\n",
       "\n",
       "    .dataframe thead th {\n",
       "        text-align: right;\n",
       "    }\n",
       "</style>\n",
       "<table border=\"1\" class=\"dataframe\">\n",
       "  <thead>\n",
       "    <tr style=\"text-align: right;\">\n",
       "      <th></th>\n",
       "      <th>Category</th>\n",
       "      <th>Message</th>\n",
       "    </tr>\n",
       "  </thead>\n",
       "  <tbody>\n",
       "    <tr>\n",
       "      <th>0</th>\n",
       "      <td>0</td>\n",
       "      <td>[go, until, jurong, point, crazy, available, o...</td>\n",
       "    </tr>\n",
       "    <tr>\n",
       "      <th>1</th>\n",
       "      <td>0</td>\n",
       "      <td>[ok, lar, joking, wif, u, oni]</td>\n",
       "    </tr>\n",
       "    <tr>\n",
       "      <th>2</th>\n",
       "      <td>1</td>\n",
       "      <td>[free, entry, in, 2, a, wkly, comp, to, win, f...</td>\n",
       "    </tr>\n",
       "    <tr>\n",
       "      <th>3</th>\n",
       "      <td>0</td>\n",
       "      <td>[u, dun, say, so, early, hor, u, c, already, t...</td>\n",
       "    </tr>\n",
       "    <tr>\n",
       "      <th>4</th>\n",
       "      <td>0</td>\n",
       "      <td>[nah, i, don, t, think, he, goes, to, usf, he,...</td>\n",
       "    </tr>\n",
       "  </tbody>\n",
       "</table>\n",
       "</div>"
      ],
      "text/plain": [
       "   Category                                            Message\n",
       "0         0  [go, until, jurong, point, crazy, available, o...\n",
       "1         0                     [ok, lar, joking, wif, u, oni]\n",
       "2         1  [free, entry, in, 2, a, wkly, comp, to, win, f...\n",
       "3         0  [u, dun, say, so, early, hor, u, c, already, t...\n",
       "4         0  [nah, i, don, t, think, he, goes, to, usf, he,..."
      ]
     },
     "execution_count": 9,
     "metadata": {},
     "output_type": "execute_result"
    }
   ],
   "source": [
    "df.head ()"
   ]
  },
  {
   "cell_type": "code",
   "execution_count": 10,
   "id": "f2d11d9c-9770-4a82-9465-f042b66d60fd",
   "metadata": {},
   "outputs": [],
   "source": [
    "corpus = list ()"
   ]
  },
  {
   "cell_type": "code",
   "execution_count": 12,
   "id": "e8f1aa3b-3d2e-4edf-8b86-182504df7094",
   "metadata": {},
   "outputs": [],
   "source": [
    "for i in range (len (df['Message'])):\n",
    "    stemmed = [w for w in df['Message'][i] if w not in set (stopwords.words('english'))]\n",
    "    joined = ' '.join (stemmed)\n",
    "    corpus.append (joined)"
   ]
  },
  {
   "cell_type": "code",
   "execution_count": 13,
   "id": "339aad9e-0e0a-472d-9571-afb658e8601c",
   "metadata": {},
   "outputs": [],
   "source": [
    "from sklearn.feature_extraction.text import TfidfVectorizer"
   ]
  },
  {
   "cell_type": "code",
   "execution_count": 14,
   "id": "f0108130-f183-4bad-b9e7-e50bf4b12d2d",
   "metadata": {},
   "outputs": [],
   "source": [
    "tfidf = TfidfVectorizer ()"
   ]
  },
  {
   "cell_type": "code",
   "execution_count": 16,
   "id": "b856e999-898b-49f5-a734-2c2cac8a219d",
   "metadata": {},
   "outputs": [],
   "source": [
    "X = tfidf.fit_transform (corpus).toarray ()"
   ]
  },
  {
   "cell_type": "code",
   "execution_count": 17,
   "id": "699e8ab6-e2cd-4722-9045-807fd72c5b90",
   "metadata": {},
   "outputs": [
    {
     "data": {
      "text/plain": [
       "(5572, 8567)"
      ]
     },
     "execution_count": 17,
     "metadata": {},
     "output_type": "execute_result"
    }
   ],
   "source": [
    "X.shape"
   ]
  },
  {
   "cell_type": "code",
   "execution_count": 19,
   "id": "5e1ad92a-59f2-4b98-9682-735db23fa7f5",
   "metadata": {},
   "outputs": [],
   "source": [
    "# X"
   ]
  },
  {
   "cell_type": "code",
   "execution_count": 20,
   "id": "f76c58c6-bbb2-4b97-bd0c-acd22bad17fa",
   "metadata": {},
   "outputs": [],
   "source": [
    "y = df['Category']"
   ]
  },
  {
   "cell_type": "code",
   "execution_count": 21,
   "id": "cfec1e34-500d-4785-a6d3-b8fce0b54c5a",
   "metadata": {},
   "outputs": [
    {
     "data": {
      "text/plain": [
       "(5572,)"
      ]
     },
     "execution_count": 21,
     "metadata": {},
     "output_type": "execute_result"
    }
   ],
   "source": [
    "y.shape"
   ]
  },
  {
   "cell_type": "code",
   "execution_count": 22,
   "id": "123efa9d-dd4e-43d1-8f62-563e2b7c791c",
   "metadata": {},
   "outputs": [],
   "source": [
    "from sklearn.model_selection import train_test_split"
   ]
  },
  {
   "cell_type": "code",
   "execution_count": 23,
   "id": "207bc52d-9de9-4e37-8484-c3259dc5dd0f",
   "metadata": {},
   "outputs": [],
   "source": [
    "X_train, X_test, y_train, y_test = train_test_split (X, y, test_size=0.2)"
   ]
  },
  {
   "cell_type": "code",
   "execution_count": 24,
   "id": "ec205d5b-c970-4bad-8b51-9698c0d11440",
   "metadata": {},
   "outputs": [],
   "source": [
    "from sklearn.naive_bayes import GaussianNB\n",
    "model = GaussianNB ()"
   ]
  },
  {
   "cell_type": "code",
   "execution_count": 25,
   "id": "84141d73-1390-42f7-8fcd-b57f51472335",
   "metadata": {},
   "outputs": [
    {
     "data": {
      "text/html": [
       "<style>#sk-container-id-1 {color: black;}#sk-container-id-1 pre{padding: 0;}#sk-container-id-1 div.sk-toggleable {background-color: white;}#sk-container-id-1 label.sk-toggleable__label {cursor: pointer;display: block;width: 100%;margin-bottom: 0;padding: 0.3em;box-sizing: border-box;text-align: center;}#sk-container-id-1 label.sk-toggleable__label-arrow:before {content: \"▸\";float: left;margin-right: 0.25em;color: #696969;}#sk-container-id-1 label.sk-toggleable__label-arrow:hover:before {color: black;}#sk-container-id-1 div.sk-estimator:hover label.sk-toggleable__label-arrow:before {color: black;}#sk-container-id-1 div.sk-toggleable__content {max-height: 0;max-width: 0;overflow: hidden;text-align: left;background-color: #f0f8ff;}#sk-container-id-1 div.sk-toggleable__content pre {margin: 0.2em;color: black;border-radius: 0.25em;background-color: #f0f8ff;}#sk-container-id-1 input.sk-toggleable__control:checked~div.sk-toggleable__content {max-height: 200px;max-width: 100%;overflow: auto;}#sk-container-id-1 input.sk-toggleable__control:checked~label.sk-toggleable__label-arrow:before {content: \"▾\";}#sk-container-id-1 div.sk-estimator input.sk-toggleable__control:checked~label.sk-toggleable__label {background-color: #d4ebff;}#sk-container-id-1 div.sk-label input.sk-toggleable__control:checked~label.sk-toggleable__label {background-color: #d4ebff;}#sk-container-id-1 input.sk-hidden--visually {border: 0;clip: rect(1px 1px 1px 1px);clip: rect(1px, 1px, 1px, 1px);height: 1px;margin: -1px;overflow: hidden;padding: 0;position: absolute;width: 1px;}#sk-container-id-1 div.sk-estimator {font-family: monospace;background-color: #f0f8ff;border: 1px dotted black;border-radius: 0.25em;box-sizing: border-box;margin-bottom: 0.5em;}#sk-container-id-1 div.sk-estimator:hover {background-color: #d4ebff;}#sk-container-id-1 div.sk-parallel-item::after {content: \"\";width: 100%;border-bottom: 1px solid gray;flex-grow: 1;}#sk-container-id-1 div.sk-label:hover label.sk-toggleable__label {background-color: #d4ebff;}#sk-container-id-1 div.sk-serial::before {content: \"\";position: absolute;border-left: 1px solid gray;box-sizing: border-box;top: 0;bottom: 0;left: 50%;z-index: 0;}#sk-container-id-1 div.sk-serial {display: flex;flex-direction: column;align-items: center;background-color: white;padding-right: 0.2em;padding-left: 0.2em;position: relative;}#sk-container-id-1 div.sk-item {position: relative;z-index: 1;}#sk-container-id-1 div.sk-parallel {display: flex;align-items: stretch;justify-content: center;background-color: white;position: relative;}#sk-container-id-1 div.sk-item::before, #sk-container-id-1 div.sk-parallel-item::before {content: \"\";position: absolute;border-left: 1px solid gray;box-sizing: border-box;top: 0;bottom: 0;left: 50%;z-index: -1;}#sk-container-id-1 div.sk-parallel-item {display: flex;flex-direction: column;z-index: 1;position: relative;background-color: white;}#sk-container-id-1 div.sk-parallel-item:first-child::after {align-self: flex-end;width: 50%;}#sk-container-id-1 div.sk-parallel-item:last-child::after {align-self: flex-start;width: 50%;}#sk-container-id-1 div.sk-parallel-item:only-child::after {width: 0;}#sk-container-id-1 div.sk-dashed-wrapped {border: 1px dashed gray;margin: 0 0.4em 0.5em 0.4em;box-sizing: border-box;padding-bottom: 0.4em;background-color: white;}#sk-container-id-1 div.sk-label label {font-family: monospace;font-weight: bold;display: inline-block;line-height: 1.2em;}#sk-container-id-1 div.sk-label-container {text-align: center;}#sk-container-id-1 div.sk-container {/* jupyter's `normalize.less` sets `[hidden] { display: none; }` but bootstrap.min.css set `[hidden] { display: none !important; }` so we also need the `!important` here to be able to override the default hidden behavior on the sphinx rendered scikit-learn.org. See: https://github.com/scikit-learn/scikit-learn/issues/21755 */display: inline-block !important;position: relative;}#sk-container-id-1 div.sk-text-repr-fallback {display: none;}</style><div id=\"sk-container-id-1\" class=\"sk-top-container\"><div class=\"sk-text-repr-fallback\"><pre>GaussianNB()</pre><b>In a Jupyter environment, please rerun this cell to show the HTML representation or trust the notebook. <br />On GitHub, the HTML representation is unable to render, please try loading this page with nbviewer.org.</b></div><div class=\"sk-container\" hidden><div class=\"sk-item\"><div class=\"sk-estimator sk-toggleable\"><input class=\"sk-toggleable__control sk-hidden--visually\" id=\"sk-estimator-id-1\" type=\"checkbox\" checked><label for=\"sk-estimator-id-1\" class=\"sk-toggleable__label sk-toggleable__label-arrow\">GaussianNB</label><div class=\"sk-toggleable__content\"><pre>GaussianNB()</pre></div></div></div></div></div>"
      ],
      "text/plain": [
       "GaussianNB()"
      ]
     },
     "execution_count": 25,
     "metadata": {},
     "output_type": "execute_result"
    }
   ],
   "source": [
    "model.fit (X_train, y_train)"
   ]
  },
  {
   "cell_type": "code",
   "execution_count": 26,
   "id": "70ac8499-3a29-47a7-8c91-bfdc39d36210",
   "metadata": {},
   "outputs": [],
   "source": [
    "y_pred = model.predict (X_test)"
   ]
  },
  {
   "cell_type": "code",
   "execution_count": 27,
   "id": "2e6111f9-76e0-4826-a46b-bffb8ec42730",
   "metadata": {},
   "outputs": [
    {
     "data": {
      "text/plain": [
       "0.8860986547085202"
      ]
     },
     "execution_count": 27,
     "metadata": {},
     "output_type": "execute_result"
    }
   ],
   "source": [
    "from sklearn.metrics import accuracy_score\n",
    "accuracy_score (y_test, y_pred)"
   ]
  },
  {
   "cell_type": "code",
   "execution_count": 28,
   "id": "7df0680e-7da2-4d18-8867-359142fb4da7",
   "metadata": {},
   "outputs": [],
   "source": [
    "text_1 = \"Thanks for your subscription to mobile carrier and caller tune will be charged 5 dollars per month from upcoming days. Please send the Yes or No to confirm\""
   ]
  },
  {
   "cell_type": "code",
   "execution_count": 29,
   "id": "9a7e39db-b444-45e7-ab95-b040fab1dd66",
   "metadata": {},
   "outputs": [],
   "source": [
    "transformed_text_1 = tfidf.transform ([text_1]).toarray ()"
   ]
  },
  {
   "cell_type": "code",
   "execution_count": 30,
   "id": "978272e4-a742-4e74-ad0f-c3a143b8fe67",
   "metadata": {},
   "outputs": [
    {
     "data": {
      "text/plain": [
       "array([1], dtype=int64)"
      ]
     },
     "execution_count": 30,
     "metadata": {},
     "output_type": "execute_result"
    }
   ],
   "source": [
    "pred_text_1 = model.predict (transformed_text_1)\n",
    "pred_text_1"
   ]
  },
  {
   "cell_type": "code",
   "execution_count": 31,
   "id": "f6b0e182-c352-4354-b448-f9864a5f1e3a",
   "metadata": {},
   "outputs": [],
   "source": [
    "text_2 = \"Meet me today for the meeting and let us close the deal\""
   ]
  },
  {
   "cell_type": "code",
   "execution_count": 32,
   "id": "4c82c3bc-c7fa-47da-a7c0-f2bc28827be3",
   "metadata": {},
   "outputs": [],
   "source": [
    "transformed_text_2 = tfidf.transform ([text_2]).toarray ()"
   ]
  },
  {
   "cell_type": "code",
   "execution_count": 33,
   "id": "5bcd845e-0b86-4221-9027-9b83b0bc5567",
   "metadata": {},
   "outputs": [
    {
     "data": {
      "text/plain": [
       "array([0], dtype=int64)"
      ]
     },
     "execution_count": 33,
     "metadata": {},
     "output_type": "execute_result"
    }
   ],
   "source": [
    "pred_text_2 = model.predict (transformed_text_2)\n",
    "pred_text_2"
   ]
  },
  {
   "cell_type": "code",
   "execution_count": 34,
   "id": "1ca84d48-a399-4fbf-8bd9-00cde7bf9c65",
   "metadata": {},
   "outputs": [],
   "source": [
    "from joblib import dump"
   ]
  },
  {
   "cell_type": "code",
   "execution_count": 35,
   "id": "e155e937-2956-4ebb-b349-a33a7d7eb7b1",
   "metadata": {},
   "outputs": [],
   "source": [
    "!mkdir savedModels"
   ]
  },
  {
   "cell_type": "code",
   "execution_count": 36,
   "id": "ae1ba125-ab6e-4d72-b62c-9f268bd7e96f",
   "metadata": {},
   "outputs": [
    {
     "data": {
      "text/plain": [
       "['./savedModels/tfidf.joblib']"
      ]
     },
     "execution_count": 36,
     "metadata": {},
     "output_type": "execute_result"
    }
   ],
   "source": [
    "dump (tfidf, './savedModels/tfidf.joblib')"
   ]
  },
  {
   "cell_type": "code",
   "execution_count": 37,
   "id": "02b8a618-9adb-42ae-aba3-d5397f78aead",
   "metadata": {},
   "outputs": [
    {
     "data": {
      "text/plain": [
       "['./savedModels/model.joblib']"
      ]
     },
     "execution_count": 37,
     "metadata": {},
     "output_type": "execute_result"
    }
   ],
   "source": [
    "dump (model, './savedModels/model.joblib')"
   ]
  },
  {
   "cell_type": "code",
   "execution_count": null,
   "id": "d93811a7-2ad0-477a-aa55-199cf52cfd19",
   "metadata": {},
   "outputs": [],
   "source": []
  }
 ],
 "metadata": {
  "kernelspec": {
   "display_name": "Python 3 (ipykernel)",
   "language": "python",
   "name": "python3"
  },
  "language_info": {
   "codemirror_mode": {
    "name": "ipython",
    "version": 3
   },
   "file_extension": ".py",
   "mimetype": "text/x-python",
   "name": "python",
   "nbconvert_exporter": "python",
   "pygments_lexer": "ipython3",
   "version": "3.11.5"
  }
 },
 "nbformat": 4,
 "nbformat_minor": 5
}
