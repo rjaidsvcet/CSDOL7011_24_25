{
 "cells": [
  {
   "cell_type": "code",
   "execution_count": 1,
   "metadata": {},
   "outputs": [],
   "source": [
    "import pandas as pd\n",
    "from sklearn.feature_extraction.text import TfidfVectorizer\n",
    "from sklearn.metrics.pairwise import cosine_similarity"
   ]
  },
  {
   "cell_type": "code",
   "execution_count": 2,
   "metadata": {},
   "outputs": [],
   "source": [
    "sentenceOne = 'My house is empty today'\n",
    "sentenceTwo = 'Nobody is at my home'\n",
    "documents = [sentenceOne, sentenceTwo]"
   ]
  },
  {
   "cell_type": "code",
   "execution_count": 3,
   "metadata": {},
   "outputs": [],
   "source": [
    "tfidf = TfidfVectorizer ()\n",
    "sparseMatrix = tfidf.fit_transform (documents)"
   ]
  },
  {
   "cell_type": "code",
   "execution_count": 4,
   "metadata": {},
   "outputs": [],
   "source": [
    "docTermMatrix = sparseMatrix.todense ()"
   ]
  },
  {
   "cell_type": "code",
   "execution_count": 5,
   "metadata": {},
   "outputs": [],
   "source": [
    "df = pd.DataFrame (\n",
    "    docTermMatrix,\n",
    "    columns = tfidf.get_feature_names_out (),\n",
    "    index = ['sentenceOne', 'sentenceTwo']\n",
    ")"
   ]
  },
  {
   "cell_type": "code",
   "execution_count": 7,
   "metadata": {},
   "outputs": [],
   "source": [
    "simScore = cosine_similarity (df, df)[0, 1]\n",
    "match_keys = df.isin ([0]).sum (axis = 0)\n",
    "match_words = match_keys[match_keys.values == 0].keys ()"
   ]
  },
  {
   "cell_type": "code",
   "execution_count": 8,
   "metadata": {},
   "outputs": [
    {
     "name": "stdout",
     "output_type": "stream",
     "text": [
      "Cosine Similarity : 0.25\n",
      "Matching Words : ['is', 'my']\n"
     ]
    }
   ],
   "source": [
    "print (f'Cosine Similarity : {round (simScore, 2)}')\n",
    "print (f'Matching Words : {list (match_words)}')"
   ]
  }
 ],
 "metadata": {
  "kernelspec": {
   "display_name": "Python 3",
   "language": "python",
   "name": "python3"
  },
  "language_info": {
   "codemirror_mode": {
    "name": "ipython",
    "version": 3
   },
   "file_extension": ".py",
   "mimetype": "text/x-python",
   "name": "python",
   "nbconvert_exporter": "python",
   "pygments_lexer": "ipython3",
   "version": "3.11.5"
  }
 },
 "nbformat": 4,
 "nbformat_minor": 2
}
